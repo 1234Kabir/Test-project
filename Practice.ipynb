{
 "cells": [
  {
   "cell_type": "code",
   "execution_count": 3,
   "id": "8fd5cdd0",
   "metadata": {},
   "outputs": [
    {
     "name": "stdout",
     "output_type": "stream",
     "text": [
      "['ramesh', 34, 5.9, 'unmarried', 'chef']\n"
     ]
    }
   ],
   "source": [
    "list1 = [\"ramesh\", 34, 5.9 , \"unmarried\", \"chef\"]\n",
    "print(list1)"
   ]
  },
  {
   "cell_type": "code",
   "execution_count": 4,
   "id": "682dfb4f",
   "metadata": {},
   "outputs": [
    {
     "data": {
      "text/plain": [
       "'chef'"
      ]
     },
     "execution_count": 4,
     "metadata": {},
     "output_type": "execute_result"
    }
   ],
   "source": [
    "list1[4]"
   ]
  },
  {
   "cell_type": "code",
   "execution_count": 5,
   "id": "75556316",
   "metadata": {},
   "outputs": [],
   "source": [
    "list1[4] = \"sales man\""
   ]
  },
  {
   "cell_type": "code",
   "execution_count": 6,
   "id": "b07c979e",
   "metadata": {},
   "outputs": [
    {
     "name": "stdout",
     "output_type": "stream",
     "text": [
      "['ramesh', 34, 5.9, 'unmarried', 'sales man']\n"
     ]
    }
   ],
   "source": [
    "print(list1)"
   ]
  },
  {
   "cell_type": "code",
   "execution_count": 18,
   "id": "e0408e94",
   "metadata": {},
   "outputs": [
    {
     "name": "stdout",
     "output_type": "stream",
     "text": [
      "['ramesh', 34, 5.9, 'unmarried', 'sales man', 'Male', 'Male', 'Male', 'Male', 'male', 'male']\n"
     ]
    }
   ],
   "source": [
    "list1.append(\"male\")\n",
    "print(list1)"
   ]
  },
  {
   "cell_type": "code",
   "execution_count": 24,
   "id": "9647cf09",
   "metadata": {},
   "outputs": [
    {
     "name": "stdout",
     "output_type": "stream",
     "text": [
      "[0, 1, 2, 3, 4, 5, 6, 7, 8, 9]\n",
      "[0, 2, 4, 6, 8, 10, 12, 14, 16, 18]\n"
     ]
    }
   ],
   "source": [
    "list1 = [1,2,3]\n",
    "list2 = [1,2,3]\n",
    "\n",
    "list1 = list(range(10))\n",
    "print(list1)\n",
    "\n",
    "list2 = [i*2 for i in list1]\n",
    "print(list2)"
   ]
  },
  {
   "cell_type": "code",
   "execution_count": 25,
   "id": "59583e3b",
   "metadata": {},
   "outputs": [
    {
     "data": {
      "text/plain": [
       "list"
      ]
     },
     "execution_count": 25,
     "metadata": {},
     "output_type": "execute_result"
    }
   ],
   "source": [
    "type(list1)"
   ]
  },
  {
   "cell_type": "code",
   "execution_count": 26,
   "id": "67f537e1",
   "metadata": {},
   "outputs": [
    {
     "data": {
      "text/plain": [
       "list"
      ]
     },
     "execution_count": 26,
     "metadata": {},
     "output_type": "execute_result"
    }
   ],
   "source": [
    "type(list2)"
   ]
  },
  {
   "cell_type": "code",
   "execution_count": 29,
   "id": "6d78a8e5",
   "metadata": {},
   "outputs": [
    {
     "name": "stdout",
     "output_type": "stream",
     "text": [
      "(10, 20, 30, 40, 'America', 'New york', 'True', True)\n"
     ]
    }
   ],
   "source": [
    "##Tuples\n",
    "\n",
    "\n",
    "tup1 = (10,20,30,40, \"America\", \"New york\", \"True\", True)\n",
    "print(tup1)"
   ]
  },
  {
   "cell_type": "code",
   "execution_count": 30,
   "id": "4c66b85a",
   "metadata": {},
   "outputs": [
    {
     "data": {
      "text/plain": [
       "8"
      ]
     },
     "execution_count": 30,
     "metadata": {},
     "output_type": "execute_result"
    }
   ],
   "source": [
    "len(tup1)"
   ]
  },
  {
   "cell_type": "code",
   "execution_count": 31,
   "id": "a4f37abd",
   "metadata": {},
   "outputs": [],
   "source": [
    "dic1 = {\n",
    "    \"Name\": \"Ranbir singla\",\n",
    "    \"Age\": 29,\n",
    "    \"Sex\": \"Male\",\n",
    "    \"Department\": \"Sales\",\n",
    "    \"Position\": \"Sales excutive\",\n",
    "    \"Salary\": 65000,\n",
    "    \"Contact\": {\n",
    "        \"Email ID\": \"Ranbir.singla@gmail.com\",\n",
    "        \"Contact\": 8527445467\n",
    "    }\n",
    "}"
   ]
  },
  {
   "cell_type": "code",
   "execution_count": 32,
   "id": "b90abe6a",
   "metadata": {},
   "outputs": [
    {
     "name": "stdout",
     "output_type": "stream",
     "text": [
      "{'Name': 'Ranbir singla', 'Age': 29, 'Sex': 'Male', 'Department': 'Sales', 'Position': 'Sales excutive', 'Salary': 65000, 'Contact': {'Email ID': 'Ranbir.singla@gmail.com', 'Contact': 8527445467}}\n"
     ]
    }
   ],
   "source": [
    "print(dic1)"
   ]
  },
  {
   "cell_type": "code",
   "execution_count": 33,
   "id": "3f1f8db4",
   "metadata": {},
   "outputs": [
    {
     "data": {
      "text/plain": [
       "dict_keys(['Name', 'Age', 'Sex', 'Department', 'Position', 'Salary', 'Contact'])"
      ]
     },
     "execution_count": 33,
     "metadata": {},
     "output_type": "execute_result"
    }
   ],
   "source": [
    "dic1.keys()"
   ]
  },
  {
   "cell_type": "code",
   "execution_count": 34,
   "id": "0a4d8225",
   "metadata": {},
   "outputs": [
    {
     "data": {
      "text/plain": [
       "dict_values(['Ranbir singla', 29, 'Male', 'Sales', 'Sales excutive', 65000, {'Email ID': 'Ranbir.singla@gmail.com', 'Contact': 8527445467}])"
      ]
     },
     "execution_count": 34,
     "metadata": {},
     "output_type": "execute_result"
    }
   ],
   "source": [
    "dic1.values()"
   ]
  },
  {
   "cell_type": "code",
   "execution_count": 39,
   "id": "fa8f24ab",
   "metadata": {},
   "outputs": [
    {
     "data": {
      "text/plain": [
       "'Ranbir singla'"
      ]
     },
     "execution_count": 39,
     "metadata": {},
     "output_type": "execute_result"
    }
   ],
   "source": [
    "dic1[\"Name\"]"
   ]
  },
  {
   "cell_type": "code",
   "execution_count": null,
   "id": "7f134d31",
   "metadata": {},
   "outputs": [],
   "source": [
    "## Doubt"
   ]
  },
  {
   "cell_type": "code",
   "execution_count": 1,
   "id": "65d64522",
   "metadata": {},
   "outputs": [
    {
     "name": "stdout",
     "output_type": "stream",
     "text": [
      "{'Name': ['Ranbir singla', 'Kavya mehra', 'kabir singh'], 'Age': [29, 34, 32], 'Sex': ['Male', 'Female', 'Male'], 'Department': ['Sales', 'management', 'Operations'], 'Position': ['Sales excutive', 'Manager', 'Operation Coordinator'], 'Salary': [65000, 75000, 45000], 'Email ID': ['Ranbir.singla@gmail.com', 'Kavya.mehra@gmail.com', 'Kabir.ada@gmail.com'], 'Contact': [8527445467, 9910890282, 8527689335]}\n"
     ]
    }
   ],
   "source": [
    "dic2 = {\n",
    "    \"Name\": [\"Ranbir singla\", \"Kavya mehra\", \"kabir singh\"],\n",
    "    \"Age\": [29, 34, 32],\n",
    "    \"Sex\": [\"Male\", \"Female\", \"Male\"],\n",
    "    \"Department\": [\"Sales\", \"management\", \"Operations\"],\n",
    "    \"Position\": [\"Sales excutive\", \"Manager\", \"Operation Coordinator\"],\n",
    "    \"Salary\": [65000, 75000, 45000],\n",
    "        \"Email ID\": [\"Ranbir.singla@gmail.com\", \"Kavya.mehra@gmail.com\", \"Kabir.ada@gmail.com\"],\n",
    "        \"Contact\": [8527445467, 9910890282, 8527689335],\n",
    "    \n",
    "}\n",
    "print(dic2)"
   ]
  },
  {
   "cell_type": "code",
   "execution_count": 4,
   "id": "2a3f5bde",
   "metadata": {},
   "outputs": [
    {
     "data": {
      "text/html": [
       "<div>\n",
       "<style scoped>\n",
       "    .dataframe tbody tr th:only-of-type {\n",
       "        vertical-align: middle;\n",
       "    }\n",
       "\n",
       "    .dataframe tbody tr th {\n",
       "        vertical-align: top;\n",
       "    }\n",
       "\n",
       "    .dataframe thead th {\n",
       "        text-align: right;\n",
       "    }\n",
       "</style>\n",
       "<table border=\"1\" class=\"dataframe\">\n",
       "  <thead>\n",
       "    <tr style=\"text-align: right;\">\n",
       "      <th></th>\n",
       "      <th>Name</th>\n",
       "      <th>Age</th>\n",
       "      <th>Sex</th>\n",
       "      <th>Department</th>\n",
       "      <th>Position</th>\n",
       "      <th>Salary</th>\n",
       "      <th>Email ID</th>\n",
       "      <th>Contact</th>\n",
       "    </tr>\n",
       "  </thead>\n",
       "  <tbody>\n",
       "    <tr>\n",
       "      <th>0</th>\n",
       "      <td>Ranbir singla</td>\n",
       "      <td>29</td>\n",
       "      <td>Male</td>\n",
       "      <td>Sales</td>\n",
       "      <td>Sales excutive</td>\n",
       "      <td>65000</td>\n",
       "      <td>Ranbir.singla@gmail.com</td>\n",
       "      <td>8527445467</td>\n",
       "    </tr>\n",
       "    <tr>\n",
       "      <th>1</th>\n",
       "      <td>Kavya mehra</td>\n",
       "      <td>34</td>\n",
       "      <td>Female</td>\n",
       "      <td>management</td>\n",
       "      <td>Manager</td>\n",
       "      <td>75000</td>\n",
       "      <td>Kavya.mehra@gmail.com</td>\n",
       "      <td>9910890282</td>\n",
       "    </tr>\n",
       "    <tr>\n",
       "      <th>2</th>\n",
       "      <td>kabir singh</td>\n",
       "      <td>32</td>\n",
       "      <td>Male</td>\n",
       "      <td>Operations</td>\n",
       "      <td>Operation Coordinator</td>\n",
       "      <td>45000</td>\n",
       "      <td>Kabir.ada@gmail.com</td>\n",
       "      <td>8527689335</td>\n",
       "    </tr>\n",
       "  </tbody>\n",
       "</table>\n",
       "</div>"
      ],
      "text/plain": [
       "            Name  Age     Sex  Department               Position  Salary  \\\n",
       "0  Ranbir singla   29    Male       Sales         Sales excutive   65000   \n",
       "1    Kavya mehra   34  Female  management                Manager   75000   \n",
       "2    kabir singh   32    Male  Operations  Operation Coordinator   45000   \n",
       "\n",
       "                  Email ID     Contact  \n",
       "0  Ranbir.singla@gmail.com  8527445467  \n",
       "1    Kavya.mehra@gmail.com  9910890282  \n",
       "2      Kabir.ada@gmail.com  8527689335  "
      ]
     },
     "execution_count": 4,
     "metadata": {},
     "output_type": "execute_result"
    }
   ],
   "source": [
    "import pandas as pd\n",
    "df2 = pd.DataFrame(dic2)\n",
    "\n",
    "df2"
   ]
  },
  {
   "cell_type": "code",
   "execution_count": 8,
   "id": "fa674954",
   "metadata": {},
   "outputs": [
    {
     "data": {
      "text/plain": [
       "[10, 20, 30, 40, 50, 10, 20, 30, 40, 50]"
      ]
     },
     "execution_count": 8,
     "metadata": {},
     "output_type": "execute_result"
    }
   ],
   "source": [
    "list5 = [10, 20, 30, 40, 50]\n",
    "list5*2"
   ]
  },
  {
   "cell_type": "code",
   "execution_count": 12,
   "id": "454e806a",
   "metadata": {},
   "outputs": [],
   "source": [
    "import numpy as np"
   ]
  },
  {
   "cell_type": "code",
   "execution_count": 13,
   "id": "58226995",
   "metadata": {
    "scrolled": true
   },
   "outputs": [
    {
     "name": "stdout",
     "output_type": "stream",
     "text": [
      "[10 20 30 40]\n"
     ]
    }
   ],
   "source": [
    "arr1 = np.array([10,20,30,40])\n",
    "print(arr1)"
   ]
  },
  {
   "cell_type": "code",
   "execution_count": 14,
   "id": "24701f09",
   "metadata": {},
   "outputs": [
    {
     "data": {
      "text/plain": [
       "array([20, 40, 60, 80])"
      ]
     },
     "execution_count": 14,
     "metadata": {},
     "output_type": "execute_result"
    }
   ],
   "source": [
    "arr1*2"
   ]
  },
  {
   "cell_type": "code",
   "execution_count": 15,
   "id": "d0715c7c",
   "metadata": {},
   "outputs": [
    {
     "data": {
      "text/plain": [
       "array([ 100,  400,  900, 1600])"
      ]
     },
     "execution_count": 15,
     "metadata": {},
     "output_type": "execute_result"
    }
   ],
   "source": [
    "arr1**2"
   ]
  },
  {
   "cell_type": "code",
   "execution_count": 17,
   "id": "601406a3",
   "metadata": {},
   "outputs": [
    {
     "data": {
      "text/plain": [
       "array([ 7,  9, 11, 13,  5])"
      ]
     },
     "execution_count": 17,
     "metadata": {},
     "output_type": "execute_result"
    }
   ],
   "source": [
    "arr10 = np.array([1,2,3,4,5])\n",
    "arr20 = np.array([6,7,8,9,0])\n",
    "\n",
    "arr10+arr20"
   ]
  },
  {
   "cell_type": "code",
   "execution_count": 18,
   "id": "1ce5d6a5",
   "metadata": {},
   "outputs": [
    {
     "data": {
      "text/plain": [
       "(5,)"
      ]
     },
     "execution_count": 18,
     "metadata": {},
     "output_type": "execute_result"
    }
   ],
   "source": [
    "arr10.shape"
   ]
  },
  {
   "cell_type": "code",
   "execution_count": 19,
   "id": "205b69e1",
   "metadata": {},
   "outputs": [
    {
     "data": {
      "text/plain": [
       "array([ 1,  2,  3,  4,  5,  6,  7,  8,  9, 10, 11, 12, 13, 14, 15, 16, 17,\n",
       "       18, 19, 20, 21, 22, 23, 24])"
      ]
     },
     "execution_count": 19,
     "metadata": {},
     "output_type": "execute_result"
    }
   ],
   "source": [
    "np.arange(1,25)"
   ]
  },
  {
   "cell_type": "code",
   "execution_count": 21,
   "id": "9a03a2c6",
   "metadata": {},
   "outputs": [
    {
     "name": "stdout",
     "output_type": "stream",
     "text": [
      "[ 1.          1.3877551   1.7755102   2.16326531  2.55102041  2.93877551\n",
      "  3.32653061  3.71428571  4.10204082  4.48979592  4.87755102  5.26530612\n",
      "  5.65306122  6.04081633  6.42857143  6.81632653  7.20408163  7.59183673\n",
      "  7.97959184  8.36734694  8.75510204  9.14285714  9.53061224  9.91836735\n",
      " 10.30612245 10.69387755 11.08163265 11.46938776 11.85714286 12.24489796\n",
      " 12.63265306 13.02040816 13.40816327 13.79591837 14.18367347 14.57142857\n",
      " 14.95918367 15.34693878 15.73469388 16.12244898 16.51020408 16.89795918\n",
      " 17.28571429 17.67346939 18.06122449 18.44897959 18.83673469 19.2244898\n",
      " 19.6122449  20.        ]\n"
     ]
    }
   ],
   "source": [
    "a1 = np.linspace(1,20,50)\n",
    "print(a1)"
   ]
  },
  {
   "cell_type": "code",
   "execution_count": 25,
   "id": "1779437d",
   "metadata": {},
   "outputs": [
    {
     "data": {
      "text/plain": [
       "array([[1, 5, 9],\n",
       "       [2, 5, 7]])"
      ]
     },
     "execution_count": 25,
     "metadata": {},
     "output_type": "execute_result"
    }
   ],
   "source": [
    "##Matrix\n",
    "\n",
    "A = np.array([[1,5,9],\n",
    "             [2,5,7]])\n",
    "\n",
    "A"
   ]
  },
  {
   "cell_type": "code",
   "execution_count": 26,
   "id": "6afd1c8f",
   "metadata": {},
   "outputs": [
    {
     "data": {
      "text/plain": [
       "(2, 3)"
      ]
     },
     "execution_count": 26,
     "metadata": {},
     "output_type": "execute_result"
    }
   ],
   "source": [
    "A.shape"
   ]
  },
  {
   "cell_type": "code",
   "execution_count": 33,
   "id": "e811da6c",
   "metadata": {},
   "outputs": [
    {
     "name": "stdout",
     "output_type": "stream",
     "text": [
      "[[0. 0. 0. 0. 0. 0. 0. 0.]\n",
      " [0. 0. 0. 0. 0. 0. 0. 0.]\n",
      " [0. 0. 0. 0. 0. 0. 0. 0.]\n",
      " [0. 0. 0. 0. 0. 0. 0. 0.]]\n"
     ]
    }
   ],
   "source": [
    "ZERO = np.zeros((4,8))\n",
    "print(ZERO)"
   ]
  },
  {
   "cell_type": "code",
   "execution_count": 31,
   "id": "8f9c9e68",
   "metadata": {},
   "outputs": [
    {
     "name": "stdout",
     "output_type": "stream",
     "text": [
      "[[0. 0. 0. 0. 0. 0. 0.]\n",
      " [0. 0. 0. 0. 0. 0. 0.]\n",
      " [0. 0. 0. 0. 0. 0. 0.]]\n"
     ]
    },
    {
     "data": {
      "text/plain": [
       "(3, 7)"
      ]
     },
     "execution_count": 31,
     "metadata": {},
     "output_type": "execute_result"
    }
   ],
   "source": [
    "zero_matrix = np.zeros((3,7))\n",
    "print(zero_matrix)\n",
    "\n",
    "zero_matrix.shape"
   ]
  },
  {
   "cell_type": "code",
   "execution_count": 36,
   "id": "220a2cf0",
   "metadata": {},
   "outputs": [
    {
     "name": "stdout",
     "output_type": "stream",
     "text": [
      "(1, 2, 3, 4, 5, 6, 7, 8, 9)\n"
     ]
    }
   ],
   "source": [
    "my_list1 = (1,2,3,4,5,6,7,8,9)\n",
    "print(my_list1)"
   ]
  },
  {
   "cell_type": "code",
   "execution_count": 39,
   "id": "b519fd86",
   "metadata": {},
   "outputs": [
    {
     "data": {
      "text/plain": [
       "array([1, 2, 3, 4, 5, 6, 7, 8, 9])"
      ]
     },
     "execution_count": 39,
     "metadata": {},
     "output_type": "execute_result"
    }
   ],
   "source": [
    "A1 = np.array(my_list1)\n",
    "\n",
    "A1"
   ]
  },
  {
   "cell_type": "code",
   "execution_count": 42,
   "id": "c783016d",
   "metadata": {},
   "outputs": [
    {
     "data": {
      "text/plain": [
       "[1, 2, 3, [4, 5, 6, [7, 8, 9]]]"
      ]
     },
     "execution_count": 42,
     "metadata": {},
     "output_type": "execute_result"
    }
   ],
   "source": [
    "A2 =  [1, 2, 3, [4, 5, 6, [7, 8, 9,]]]\n",
    "\n",
    "A2"
   ]
  },
  {
   "cell_type": "code",
   "execution_count": 53,
   "id": "87eec427",
   "metadata": {},
   "outputs": [
    {
     "name": "stdout",
     "output_type": "stream",
     "text": [
      "7\n"
     ]
    }
   ],
   "source": [
    "print(A2[3][3][0])  \n"
   ]
  },
  {
   "cell_type": "code",
   "execution_count": 57,
   "id": "3422d90f",
   "metadata": {},
   "outputs": [
    {
     "data": {
      "text/plain": [
       "array([0.78688077, 0.89855916, 0.26462565, 0.73835436, 0.49462719])"
      ]
     },
     "execution_count": 57,
     "metadata": {},
     "output_type": "execute_result"
    }
   ],
   "source": [
    "np.random.rand(5)"
   ]
  },
  {
   "cell_type": "code",
   "execution_count": 58,
   "id": "cd7bdf95",
   "metadata": {},
   "outputs": [
    {
     "data": {
      "text/plain": [
       "array([[0.07801526, 0.075406  , 0.9230402 , 0.92983369, 0.73471267,\n",
       "        0.92879683, 0.16828815, 0.56167488],\n",
       "       [0.41512571, 0.49725375, 0.57924963, 0.10975412, 0.28148733,\n",
       "        0.34749361, 0.57268447, 0.86181474],\n",
       "       [0.85276633, 0.8162367 , 0.00469057, 0.20010157, 0.8661143 ,\n",
       "        0.27127207, 0.15809346, 0.11059901],\n",
       "       [0.84678361, 0.23883578, 0.97496422, 0.43520752, 0.5763678 ,\n",
       "        0.80320636, 0.64282357, 0.09212732]])"
      ]
     },
     "execution_count": 58,
     "metadata": {},
     "output_type": "execute_result"
    }
   ],
   "source": [
    "np.random.rand(4,8)"
   ]
  },
  {
   "cell_type": "code",
   "execution_count": 59,
   "id": "1e736b2b",
   "metadata": {},
   "outputs": [
    {
     "data": {
      "text/plain": [
       "6"
      ]
     },
     "execution_count": 59,
     "metadata": {},
     "output_type": "execute_result"
    }
   ],
   "source": [
    "np.random.randint(5,9)"
   ]
  },
  {
   "cell_type": "code",
   "execution_count": 61,
   "id": "6a64786c",
   "metadata": {},
   "outputs": [
    {
     "data": {
      "text/plain": [
       "array([17, 20,  8,  6,  8, 12, 17,  4,  8, 25,  7, 26, 12, 18, 26,  8, 10,\n",
       "       16,  5, 22, 22, 25, 23,  8, 20,  4, 27, 25, 16, 18,  3, 10, 28, 10,\n",
       "       23, 27, 25, 12, 29, 15,  7, 28, 28, 13, 11, 24,  7, 20, 15,  6, 23,\n",
       "       27, 11,  8, 22,  2, 25,  2, 16, 26])"
      ]
     },
     "execution_count": 61,
     "metadata": {},
     "output_type": "execute_result"
    }
   ],
   "source": [
    "np.random.randint(1,30,60)"
   ]
  },
  {
   "cell_type": "code",
   "execution_count": 62,
   "id": "9f500e00",
   "metadata": {},
   "outputs": [],
   "source": [
    "x = np.array([1,2,3])\n",
    "y = np.array([4,5,6])"
   ]
  },
  {
   "cell_type": "code",
   "execution_count": 63,
   "id": "5c6442a0",
   "metadata": {},
   "outputs": [
    {
     "data": {
      "text/plain": [
       "array([1, 2, 3, 4, 5, 6])"
      ]
     },
     "execution_count": 63,
     "metadata": {},
     "output_type": "execute_result"
    }
   ],
   "source": [
    "np.concatenate([x,y])"
   ]
  },
  {
   "cell_type": "code",
   "execution_count": 65,
   "id": "f927d2a1",
   "metadata": {},
   "outputs": [
    {
     "data": {
      "text/plain": [
       "array([1, 2, 3, 4, 5, 6])"
      ]
     },
     "execution_count": 65,
     "metadata": {},
     "output_type": "execute_result"
    }
   ],
   "source": [
    "np.hstack([x,y])"
   ]
  },
  {
   "cell_type": "code",
   "execution_count": 68,
   "id": "013fad6e",
   "metadata": {},
   "outputs": [
    {
     "data": {
      "text/plain": [
       "array([2, 5])"
      ]
     },
     "execution_count": 68,
     "metadata": {},
     "output_type": "execute_result"
    }
   ],
   "source": [
    "x = np.array([2,5])\n",
    "\n",
    "x"
   ]
  },
  {
   "cell_type": "code",
   "execution_count": 76,
   "id": "baca02e7",
   "metadata": {},
   "outputs": [],
   "source": [
    "import pandas as pd"
   ]
  },
  {
   "cell_type": "code",
   "execution_count": null,
   "id": "7a516b42",
   "metadata": {},
   "outputs": [],
   "source": []
  },
  {
   "cell_type": "code",
   "execution_count": 79,
   "id": "911688ea",
   "metadata": {
    "scrolled": true
   },
   "outputs": [
    {
     "name": "stdout",
     "output_type": "stream",
     "text": [
      "america     1\n",
      "canadian    2\n",
      "indian      3\n",
      "african     4\n",
      "dtype: int64\n"
     ]
    }
   ],
   "source": [
    "detail1 = pd.Series(data = [1,2,3,4], index = [\"america\", \"canadian\", \"indian\", \"african\"])\n",
    "\n",
    "print(detail1)"
   ]
  },
  {
   "cell_type": "code",
   "execution_count": 82,
   "id": "b8682c74",
   "metadata": {},
   "outputs": [
    {
     "name": "stdout",
     "output_type": "stream",
     "text": [
      "Brazalian     10\n",
      "Nagerian      20\n",
      "Afgani        30\n",
      "Sri Lankan    40\n",
      "dtype: int64\n"
     ]
    }
   ],
   "source": [
    "detail2 = pd.Series(data = [10,20,30,40], index = [\"Brazalian\", \"Nagerian\", \"Afgani\", \"Sri Lankan\"])\n",
    "\n",
    "print(detail2)"
   ]
  },
  {
   "cell_type": "code",
   "execution_count": 86,
   "id": "5bd31ad2",
   "metadata": {},
   "outputs": [
    {
     "data": {
      "text/plain": [
       "40"
      ]
     },
     "execution_count": 86,
     "metadata": {},
     "output_type": "execute_result"
    }
   ],
   "source": [
    "detail2['Sri Lankan']"
   ]
  },
  {
   "cell_type": "code",
   "execution_count": 87,
   "id": "71c36709",
   "metadata": {},
   "outputs": [
    {
     "data": {
      "text/plain": [
       "Afgani       NaN\n",
       "Brazalian    NaN\n",
       "Nagerian     NaN\n",
       "Sri Lankan   NaN\n",
       "african      NaN\n",
       "america      NaN\n",
       "canadian     NaN\n",
       "indian       NaN\n",
       "dtype: float64"
      ]
     },
     "execution_count": 87,
     "metadata": {},
     "output_type": "execute_result"
    }
   ],
   "source": [
    "detail1+detail2"
   ]
  },
  {
   "cell_type": "code",
   "execution_count": 92,
   "id": "2146e6cb",
   "metadata": {},
   "outputs": [
    {
     "name": "stdout",
     "output_type": "stream",
     "text": [
      "[[0.62709039 0.36667495 0.67645488 0.77896003 0.91019303 0.5569676\n",
      "  0.92449196 0.51541004]\n",
      " [0.76304379 0.95747734 0.53419976 0.3032221  0.33223905 0.59596301\n",
      "  0.97369616 0.28012941]\n",
      " [0.89654679 0.86761968 0.84254345 0.3027445  0.59509896 0.24596452\n",
      "  0.24852358 0.46687983]\n",
      " [0.3153495  0.67903588 0.9714187  0.92441708 0.9779355  0.16872022\n",
      "  0.87593259 0.03091409]]\n",
      "<class 'numpy.ndarray'>\n"
     ]
    }
   ],
   "source": [
    "## Data frame\n",
    "\n",
    "\n",
    "print(np.random.rand(4,8))\n",
    "print(type(np.random.randn(4,8)))"
   ]
  },
  {
   "cell_type": "code",
   "execution_count": 94,
   "id": "371957d3",
   "metadata": {},
   "outputs": [
    {
     "data": {
      "text/html": [
       "<div>\n",
       "<style scoped>\n",
       "    .dataframe tbody tr th:only-of-type {\n",
       "        vertical-align: middle;\n",
       "    }\n",
       "\n",
       "    .dataframe tbody tr th {\n",
       "        vertical-align: top;\n",
       "    }\n",
       "\n",
       "    .dataframe thead th {\n",
       "        text-align: right;\n",
       "    }\n",
       "</style>\n",
       "<table border=\"1\" class=\"dataframe\">\n",
       "  <thead>\n",
       "    <tr style=\"text-align: right;\">\n",
       "      <th></th>\n",
       "      <th>0</th>\n",
       "      <th>1</th>\n",
       "      <th>2</th>\n",
       "      <th>3</th>\n",
       "      <th>4</th>\n",
       "      <th>5</th>\n",
       "      <th>6</th>\n",
       "      <th>7</th>\n",
       "    </tr>\n",
       "  </thead>\n",
       "  <tbody>\n",
       "    <tr>\n",
       "      <th>0</th>\n",
       "      <td>0.459399</td>\n",
       "      <td>0.201528</td>\n",
       "      <td>0.583641</td>\n",
       "      <td>0.542345</td>\n",
       "      <td>0.543555</td>\n",
       "      <td>0.383975</td>\n",
       "      <td>0.812344</td>\n",
       "      <td>0.782264</td>\n",
       "    </tr>\n",
       "    <tr>\n",
       "      <th>1</th>\n",
       "      <td>0.805415</td>\n",
       "      <td>0.110889</td>\n",
       "      <td>0.298022</td>\n",
       "      <td>0.778695</td>\n",
       "      <td>0.918009</td>\n",
       "      <td>0.292746</td>\n",
       "      <td>0.232654</td>\n",
       "      <td>0.082942</td>\n",
       "    </tr>\n",
       "    <tr>\n",
       "      <th>2</th>\n",
       "      <td>0.290192</td>\n",
       "      <td>0.807064</td>\n",
       "      <td>0.947377</td>\n",
       "      <td>0.385652</td>\n",
       "      <td>0.561529</td>\n",
       "      <td>0.020277</td>\n",
       "      <td>0.669541</td>\n",
       "      <td>0.733652</td>\n",
       "    </tr>\n",
       "    <tr>\n",
       "      <th>3</th>\n",
       "      <td>0.394633</td>\n",
       "      <td>0.188602</td>\n",
       "      <td>0.436981</td>\n",
       "      <td>0.769779</td>\n",
       "      <td>0.440242</td>\n",
       "      <td>0.904595</td>\n",
       "      <td>0.405481</td>\n",
       "      <td>0.103914</td>\n",
       "    </tr>\n",
       "  </tbody>\n",
       "</table>\n",
       "</div>"
      ],
      "text/plain": [
       "          0         1         2         3         4         5         6  \\\n",
       "0  0.459399  0.201528  0.583641  0.542345  0.543555  0.383975  0.812344   \n",
       "1  0.805415  0.110889  0.298022  0.778695  0.918009  0.292746  0.232654   \n",
       "2  0.290192  0.807064  0.947377  0.385652  0.561529  0.020277  0.669541   \n",
       "3  0.394633  0.188602  0.436981  0.769779  0.440242  0.904595  0.405481   \n",
       "\n",
       "          7  \n",
       "0  0.782264  \n",
       "1  0.082942  \n",
       "2  0.733652  \n",
       "3  0.103914  "
      ]
     },
     "execution_count": 94,
     "metadata": {},
     "output_type": "execute_result"
    }
   ],
   "source": [
    "DF1 = pd.DataFrame(np.random.rand(4,8))\n",
    "\n",
    "DF1"
   ]
  },
  {
   "cell_type": "code",
   "execution_count": 99,
   "id": "fc25d688",
   "metadata": {},
   "outputs": [
    {
     "data": {
      "text/html": [
       "<div>\n",
       "<style scoped>\n",
       "    .dataframe tbody tr th:only-of-type {\n",
       "        vertical-align: middle;\n",
       "    }\n",
       "\n",
       "    .dataframe tbody tr th {\n",
       "        vertical-align: top;\n",
       "    }\n",
       "\n",
       "    .dataframe thead th {\n",
       "        text-align: right;\n",
       "    }\n",
       "</style>\n",
       "<table border=\"1\" class=\"dataframe\">\n",
       "  <thead>\n",
       "    <tr style=\"text-align: right;\">\n",
       "      <th></th>\n",
       "      <th>0</th>\n",
       "      <th>1</th>\n",
       "      <th>2</th>\n",
       "      <th>3</th>\n",
       "      <th>4</th>\n",
       "      <th>5</th>\n",
       "      <th>6</th>\n",
       "      <th>7</th>\n",
       "    </tr>\n",
       "  </thead>\n",
       "  <tbody>\n",
       "    <tr>\n",
       "      <th>A</th>\n",
       "      <td>0.681322</td>\n",
       "      <td>0.348196</td>\n",
       "      <td>0.763141</td>\n",
       "      <td>0.440306</td>\n",
       "      <td>0.475142</td>\n",
       "      <td>0.797604</td>\n",
       "      <td>0.730478</td>\n",
       "      <td>0.106365</td>\n",
       "    </tr>\n",
       "    <tr>\n",
       "      <th>B</th>\n",
       "      <td>0.254812</td>\n",
       "      <td>0.091183</td>\n",
       "      <td>0.631957</td>\n",
       "      <td>0.015857</td>\n",
       "      <td>0.526303</td>\n",
       "      <td>0.135693</td>\n",
       "      <td>0.700605</td>\n",
       "      <td>0.915290</td>\n",
       "    </tr>\n",
       "    <tr>\n",
       "      <th>C</th>\n",
       "      <td>0.498661</td>\n",
       "      <td>0.109887</td>\n",
       "      <td>0.475073</td>\n",
       "      <td>0.611075</td>\n",
       "      <td>0.461831</td>\n",
       "      <td>0.797461</td>\n",
       "      <td>0.269076</td>\n",
       "      <td>0.708147</td>\n",
       "    </tr>\n",
       "    <tr>\n",
       "      <th>D</th>\n",
       "      <td>0.393651</td>\n",
       "      <td>0.442283</td>\n",
       "      <td>0.400546</td>\n",
       "      <td>0.773649</td>\n",
       "      <td>0.303601</td>\n",
       "      <td>0.592196</td>\n",
       "      <td>0.642291</td>\n",
       "      <td>0.581519</td>\n",
       "    </tr>\n",
       "  </tbody>\n",
       "</table>\n",
       "</div>"
      ],
      "text/plain": [
       "          0         1         2         3         4         5         6  \\\n",
       "A  0.681322  0.348196  0.763141  0.440306  0.475142  0.797604  0.730478   \n",
       "B  0.254812  0.091183  0.631957  0.015857  0.526303  0.135693  0.700605   \n",
       "C  0.498661  0.109887  0.475073  0.611075  0.461831  0.797461  0.269076   \n",
       "D  0.393651  0.442283  0.400546  0.773649  0.303601  0.592196  0.642291   \n",
       "\n",
       "          7  \n",
       "A  0.106365  \n",
       "B  0.915290  \n",
       "C  0.708147  \n",
       "D  0.581519  "
      ]
     },
     "execution_count": 99,
     "metadata": {},
     "output_type": "execute_result"
    }
   ],
   "source": [
    "DF2 = pd.DataFrame(np.random.rand(4,8), index =['A', 'B', 'C', 'D',])\n",
    "\n",
    "DF2"
   ]
  },
  {
   "cell_type": "code",
   "execution_count": 104,
   "id": "d2a2906f",
   "metadata": {},
   "outputs": [
    {
     "data": {
      "text/plain": [
       "['My', 'Name', 'is', 'Kabir', 'Baneshi']"
      ]
     },
     "execution_count": 104,
     "metadata": {},
     "output_type": "execute_result"
    }
   ],
   "source": [
    "K = \"My Name is Kabir Baneshi\"\n",
    "K1 = K.split()\n",
    "\n",
    "K1"
   ]
  },
  {
   "cell_type": "code",
   "execution_count": 108,
   "id": "7524460f",
   "metadata": {},
   "outputs": [
    {
     "data": {
      "text/plain": [
       "['My', 'Name', 'is', 'Kabir', 'Baneshi']"
      ]
     },
     "execution_count": 108,
     "metadata": {},
     "output_type": "execute_result"
    }
   ],
   "source": [
    "K = \"My_Name_is_Kabir_Baneshi\"\n",
    "K1 = K.split(\"_\")\n",
    "\n",
    "K1"
   ]
  },
  {
   "cell_type": "code",
   "execution_count": 132,
   "id": "d6c2695c",
   "metadata": {},
   "outputs": [
    {
     "ename": "SyntaxError",
     "evalue": "invalid syntax. Perhaps you forgot a comma? (1800370754.py, line 3)",
     "output_type": "error",
     "traceback": [
      "\u001b[1;36m  Cell \u001b[1;32mIn[132], line 3\u001b[1;36m\u001b[0m\n\u001b[1;33m    coloums = ['2010', '2011', '2012', '2013', '2014', '2015', '2016'].split[])\u001b[0m\n\u001b[1;37m              ^\u001b[0m\n\u001b[1;31mSyntaxError\u001b[0m\u001b[1;31m:\u001b[0m invalid syntax. Perhaps you forgot a comma?\n"
     ]
    }
   ],
   "source": [
    "Df3 = pd.DataFrame(np.random.rand(4,8),\n",
    "                   index = ['A', 'B', 'C', 'D',], \n",
    "                   coloums = ['2010', '2011', '2012', '2013', '2014', '2015', '2016'].split[])"
   ]
  },
  {
   "cell_type": "code",
   "execution_count": 134,
   "id": "8d15b73b",
   "metadata": {},
   "outputs": [
    {
     "data": {
      "text/plain": [
       "(4, 8)"
      ]
     },
     "execution_count": 134,
     "metadata": {},
     "output_type": "execute_result"
    }
   ],
   "source": [
    "DF2.shape"
   ]
  },
  {
   "cell_type": "code",
   "execution_count": null,
   "id": "b05fa85c",
   "metadata": {},
   "outputs": [],
   "source": []
  },
  {
   "cell_type": "code",
   "execution_count": null,
   "id": "1083cd9d",
   "metadata": {},
   "outputs": [],
   "source": []
  },
  {
   "cell_type": "code",
   "execution_count": null,
   "id": "3ad4bc17",
   "metadata": {},
   "outputs": [],
   "source": []
  },
  {
   "cell_type": "code",
   "execution_count": null,
   "id": "648c9454",
   "metadata": {},
   "outputs": [],
   "source": []
  },
  {
   "cell_type": "code",
   "execution_count": null,
   "id": "4f45c229",
   "metadata": {},
   "outputs": [],
   "source": []
  },
  {
   "cell_type": "code",
   "execution_count": null,
   "id": "95fc39d9",
   "metadata": {},
   "outputs": [],
   "source": []
  },
  {
   "cell_type": "code",
   "execution_count": null,
   "id": "3ac1a153",
   "metadata": {},
   "outputs": [],
   "source": []
  },
  {
   "cell_type": "code",
   "execution_count": null,
   "id": "4041dd51",
   "metadata": {},
   "outputs": [],
   "source": []
  },
  {
   "cell_type": "code",
   "execution_count": null,
   "id": "64d36dc4",
   "metadata": {},
   "outputs": [],
   "source": []
  },
  {
   "cell_type": "code",
   "execution_count": null,
   "id": "7eb8cc42",
   "metadata": {},
   "outputs": [],
   "source": []
  }
 ],
 "metadata": {
  "kernelspec": {
   "display_name": "Python 3 (ipykernel)",
   "language": "python",
   "name": "python3"
  },
  "language_info": {
   "codemirror_mode": {
    "name": "ipython",
    "version": 3
   },
   "file_extension": ".py",
   "mimetype": "text/x-python",
   "name": "python",
   "nbconvert_exporter": "python",
   "pygments_lexer": "ipython3",
   "version": "3.11.5"
  }
 },
 "nbformat": 4,
 "nbformat_minor": 5
}
